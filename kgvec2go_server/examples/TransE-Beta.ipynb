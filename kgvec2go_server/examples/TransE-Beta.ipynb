{
 "cells": [
  {
   "cell_type": "markdown",
   "id": "fa3011c8-544d-49b1-828c-44b43058b5e5",
   "metadata": {},
   "source": [
    "# KGvec2go TransE API (beta)\n",
    "This notebook contains an example of the non-RDF2vec endpoint of KGvec2go.\n",
    "We currently serve a TransE-L2 embedding trained on DBpedia.\n",
    "Note that we use a future API notation rather than following the legacy API paths outlined on the Website."
   ]
  },
  {
   "cell_type": "markdown",
   "id": "108b2467-2b30-4b79-899b-6c6003802c8e",
   "metadata": {},
   "source": [
    "## Obtain a Single Vector"
   ]
  },
  {
   "cell_type": "code",
   "execution_count": 1,
   "id": "76fcef7c-c0e5-4591-82a1-0dcca5721a69",
   "metadata": {},
   "outputs": [
    {
     "name": "stdout",
     "output_type": "stream",
     "text": [
      "http://dbpedia.org/resource/Cat\n",
      "[0.6220771, -0.09795727, 0.4801988, 0.44180036, -0.34162295, -0.22471985, -0.8802342, -0.72920007, 0.9524175, 0.65763277, -0.47893327, 0.15954173, 0.37120396, -0.5491299, 0.045918103, 0.80255383, 0.49069786, -0.18595782, -0.19739804, -0.13889164, -0.08010411, 0.7207112, 0.17392421, 0.048993103, -0.94326276, -1.3688701, 0.46108195, -0.4735226, -0.35517037, -0.18763228, -0.19036785, -0.45605513, 0.53485763, 0.1386208, 0.57267725, 0.74531573, 0.29633775, 0.43771183, 0.795247, 0.8872323, 0.29731718, -0.82498133, 0.45161235, -0.17165914, 0.8463038, -0.29699704, 1.4828805, 0.44312072, 0.7017053, -0.4135015, 0.061686244, 0.26145676, -0.3830494, -0.0483952, -0.049545933, -0.2674559, -0.3051793, 0.033144355, 0.030900484, -0.43034008, 0.0046341377, -0.7476569, 0.22975007, 0.030316526, -0.10873237, 0.0017915816, -0.4806375, 0.61905026, 0.21994363, 0.16714402, 0.20705242, 0.2590999, -0.38275895, -0.18777387, 0.33922198, -0.5085778, -0.12907723, -0.10397143, 0.15185332, 1.3012805, -0.04466787, -0.23790735, 0.16805404, -0.024910893, -0.104971476, -0.7838988, 0.46523654, -0.4337625, -0.29302162, -0.16827895, -0.7815722, 0.33789223, -0.078720264, -0.5870602, 0.45911658, 0.22606827, -0.6900753, 0.18294157, -0.39638782, 0.19296554, -0.14508265, -0.5233146, 0.3445485, 0.27601853, -0.11409637, -0.5176768, 0.14993002, -0.089694165, 0.07982145, -0.13688126, 0.15325387, -0.43209276, 0.14078684, -0.007252453, 0.3149384, 0.52206373, 0.28492478, 0.76077646, 0.19771397, -0.027877737, -0.79956174, 0.67986375, -0.56253153, -0.32639235, -0.8144212, 0.35269144, -0.1388658, -0.2566389, -0.09667344, -0.33018148, 0.18767698, -0.420153, 0.0058240755, -0.053560983, -0.34999725, -0.40727046, -0.21296431, 0.47773513, -0.16238214, 0.5355208, -0.9082301, 0.1964429, -0.30377325, 0.83513814, 0.039668407, 0.39639843, -0.39667988, 0.42604834, 0.97359514, 0.07514256, -0.4880072, -0.5387651, -0.45485774, 0.40871888, -0.19489898, -0.16934624, -1.0006187, 0.36704677, -0.77344483, -0.3113521, 0.85035783, 0.05377697, -0.061715227, -0.15006536, -0.1410688, -0.8528594, -0.17898871, -0.10211264, -1.401065, 0.32035354, 0.37502483, -0.49259192, -0.4332266, -0.102992944, 0.7316671, 0.376611, -0.10507798, 0.49847418, 1.4775451, -0.49310848, 0.23819591, -0.23771511, -0.40417725, -0.3992071, 0.28894913, 0.34743622, -0.8094166, -0.122690685, 0.13159415, 0.016384847, 0.50246865, 0.163861, 0.13867667, -0.43686885, 1.1120411, 0.46513125, 0.651074, 0.043074228, -0.13585018, 0.07582778]\n"
     ]
    }
   ],
   "source": [
    "import requests\n",
    "import json\n",
    "\n",
    "r = requests.get(\"http://kgvec2go.org/rest/v2/get-vector/DBpedia/2021-09/transe/v1/Cat\")\n",
    "x = json.loads(r.text)\n",
    "\n",
    "print(x[\"uri\"])\n",
    "print(x[\"vector\"])"
   ]
  },
  {
   "cell_type": "markdown",
   "id": "3166c6bd-473d-4f3d-ab2d-c6186db8de5a",
   "metadata": {
    "tags": []
   },
   "source": [
    "## Closest Concepts"
   ]
  },
  {
   "cell_type": "code",
   "execution_count": 8,
   "id": "737aaa69-bdb2-437d-8c9e-6cb5d7c74716",
   "metadata": {},
   "outputs": [
    {
     "data": {
      "text/plain": [
       "{'result': [{'concept': 'http://dbpedia.org/resource/Penguin',\n",
       "   'score': 0.8600761294364929},\n",
       "  {'concept': 'http://dbpedia.org/resource/Fairy',\n",
       "   'score': 0.8574792742729187},\n",
       "  {'concept': 'http://dbpedia.org/resource/Kitten',\n",
       "   'score': 0.8480271100997925},\n",
       "  {'concept': 'http://dbpedia.org/resource/Cat_anatomy',\n",
       "   'score': 0.8445104956626892},\n",
       "  {'concept': 'http://dbpedia.org/resource/Bear', 'score': 0.8369305729866028},\n",
       "  {'concept': 'http://dbpedia.org/resource/Android_(robot)',\n",
       "   'score': 0.8328463435173035},\n",
       "  {'concept': 'http://dbpedia.org/resource/Cat_intelligence',\n",
       "   'score': 0.832260012626648},\n",
       "  {'concept': 'http://dbpedia.org/resource/Domestic_pig',\n",
       "   'score': 0.8319182991981506},\n",
       "  {'concept': 'http://dbpedia.org/resource/Vampire',\n",
       "   'score': 0.8245993852615356},\n",
       "  {'concept': 'http://dbpedia.org/resource/Monitor_lizard',\n",
       "   'score': 0.8194184899330139}]}"
      ]
     },
     "execution_count": 8,
     "metadata": {},
     "output_type": "execute_result"
    }
   ],
   "source": [
    "import requests\n",
    "import json\n",
    "\n",
    "r = requests.get(\"http://kgvec2go.org/rest/v2/closest-concepts/DBpedia/2021-09/transe/v1/10/Cat\")\n",
    "x = json.loads(r.text)\n",
    "\n",
    "x"
   ]
  },
  {
   "cell_type": "markdown",
   "id": "da180464-093f-47eb-a86a-15b174f6f656",
   "metadata": {},
   "source": [
    "## TransE Additions"
   ]
  },
  {
   "cell_type": "code",
   "execution_count": 10,
   "id": "8211daea-87ad-4cfc-bf3d-2830f3ac0af0",
   "metadata": {},
   "outputs": [
    {
     "data": {
      "text/plain": [
       "{'result': [{'concept': 'http://dbpedia.org/resource/Paris',\n",
       "   'score': 0.8740436434745789},\n",
       "  {'concept': 'http://dbpedia.org/resource/France',\n",
       "   'score': 0.8621951341629028},\n",
       "  {'concept': 'http://dbpedia.org/resource/Lyon', 'score': 0.855006217956543},\n",
       "  {'concept': 'http://dbpedia.org/resource/Nancy,_France',\n",
       "   'score': 0.8458091616630554},\n",
       "  {'concept': 'http://dbpedia.org/resource/Toulouse',\n",
       "   'score': 0.8413355946540833},\n",
       "  {'concept': 'http://dbpedia.org/resource/Boulogne-Billancourt',\n",
       "   'score': 0.8410650491714478},\n",
       "  {'concept': 'http://dbpedia.org/resource/Île-de-France',\n",
       "   'score': 0.8397024273872375},\n",
       "  {'concept': 'http://dbpedia.org/resource/Rouen',\n",
       "   'score': 0.8389310240745544},\n",
       "  {'concept': 'http://dbpedia.org/resource/Bordeaux',\n",
       "   'score': 0.8372076153755188},\n",
       "  {'concept': 'http://dbpedia.org/resource/Versailles_(city)',\n",
       "   'score': 0.8370440602302551}]}"
      ]
     },
     "execution_count": 10,
     "metadata": {},
     "output_type": "execute_result"
    }
   ],
   "source": [
    "import requests\n",
    "import json\n",
    "\n",
    "r = requests.get(\"http://kgvec2go.org/rest/v2/addition-closest-concepts/DBpedia/2021-09/transe/v1/10/France/capital\")\n",
    "x = json.loads(r.text)\n",
    "\n",
    "x"
   ]
  },
  {
   "cell_type": "markdown",
   "source": [
    "## Triple Scoring"
   ],
   "metadata": {
    "collapsed": false,
    "pycharm": {
     "name": "#%% md\n"
    }
   }
  },
  {
   "cell_type": "code",
   "execution_count": 3,
   "outputs": [
    {
     "ename": "JSONDecodeError",
     "evalue": "Expecting value: line 1 column 1 (char 0)",
     "output_type": "error",
     "traceback": [
      "\u001B[0;31m---------------------------------------------------------------------------\u001B[0m",
      "\u001B[0;31mJSONDecodeError\u001B[0m                           Traceback (most recent call last)",
      "Input \u001B[0;32mIn [3]\u001B[0m, in \u001B[0;36m<cell line: 5>\u001B[0;34m()\u001B[0m\n\u001B[1;32m      2\u001B[0m \u001B[38;5;28;01mimport\u001B[39;00m \u001B[38;5;21;01mjson\u001B[39;00m\n\u001B[1;32m      4\u001B[0m r \u001B[38;5;241m=\u001B[39m requests\u001B[38;5;241m.\u001B[39mget(\u001B[38;5;124m\"\u001B[39m\u001B[38;5;124mhttp://kgvec2go.org/rest/v2/get-triple-score/DBpedia/2021-09/transe/v1/10/France/capital/Paris\u001B[39m\u001B[38;5;124m\"\u001B[39m)\n\u001B[0;32m----> 5\u001B[0m score \u001B[38;5;241m=\u001B[39m \u001B[43mjson\u001B[49m\u001B[38;5;241;43m.\u001B[39;49m\u001B[43mloads\u001B[49m\u001B[43m(\u001B[49m\u001B[43mr\u001B[49m\u001B[38;5;241;43m.\u001B[39;49m\u001B[43mtext\u001B[49m\u001B[43m)\u001B[49m\n\u001B[1;32m      7\u001B[0m \u001B[38;5;28mprint\u001B[39m(\u001B[38;5;124mf\u001B[39m\u001B[38;5;124m\"\u001B[39m\u001B[38;5;124m(France, capital, Paris) -> \u001B[39m\u001B[38;5;132;01m{\u001B[39;00mscore\u001B[38;5;132;01m}\u001B[39;00m\u001B[38;5;124m\"\u001B[39m)\n",
      "File \u001B[0;32m~/opt/anaconda3/envs/kgvec2go_env/lib/python3.8/json/__init__.py:357\u001B[0m, in \u001B[0;36mloads\u001B[0;34m(s, cls, object_hook, parse_float, parse_int, parse_constant, object_pairs_hook, **kw)\u001B[0m\n\u001B[1;32m    352\u001B[0m     \u001B[38;5;28;01mdel\u001B[39;00m kw[\u001B[38;5;124m'\u001B[39m\u001B[38;5;124mencoding\u001B[39m\u001B[38;5;124m'\u001B[39m]\n\u001B[1;32m    354\u001B[0m \u001B[38;5;28;01mif\u001B[39;00m (\u001B[38;5;28mcls\u001B[39m \u001B[38;5;129;01mis\u001B[39;00m \u001B[38;5;28;01mNone\u001B[39;00m \u001B[38;5;129;01mand\u001B[39;00m object_hook \u001B[38;5;129;01mis\u001B[39;00m \u001B[38;5;28;01mNone\u001B[39;00m \u001B[38;5;129;01mand\u001B[39;00m\n\u001B[1;32m    355\u001B[0m         parse_int \u001B[38;5;129;01mis\u001B[39;00m \u001B[38;5;28;01mNone\u001B[39;00m \u001B[38;5;129;01mand\u001B[39;00m parse_float \u001B[38;5;129;01mis\u001B[39;00m \u001B[38;5;28;01mNone\u001B[39;00m \u001B[38;5;129;01mand\u001B[39;00m\n\u001B[1;32m    356\u001B[0m         parse_constant \u001B[38;5;129;01mis\u001B[39;00m \u001B[38;5;28;01mNone\u001B[39;00m \u001B[38;5;129;01mand\u001B[39;00m object_pairs_hook \u001B[38;5;129;01mis\u001B[39;00m \u001B[38;5;28;01mNone\u001B[39;00m \u001B[38;5;129;01mand\u001B[39;00m \u001B[38;5;129;01mnot\u001B[39;00m kw):\n\u001B[0;32m--> 357\u001B[0m     \u001B[38;5;28;01mreturn\u001B[39;00m \u001B[43m_default_decoder\u001B[49m\u001B[38;5;241;43m.\u001B[39;49m\u001B[43mdecode\u001B[49m\u001B[43m(\u001B[49m\u001B[43ms\u001B[49m\u001B[43m)\u001B[49m\n\u001B[1;32m    358\u001B[0m \u001B[38;5;28;01mif\u001B[39;00m \u001B[38;5;28mcls\u001B[39m \u001B[38;5;129;01mis\u001B[39;00m \u001B[38;5;28;01mNone\u001B[39;00m:\n\u001B[1;32m    359\u001B[0m     \u001B[38;5;28mcls\u001B[39m \u001B[38;5;241m=\u001B[39m JSONDecoder\n",
      "File \u001B[0;32m~/opt/anaconda3/envs/kgvec2go_env/lib/python3.8/json/decoder.py:337\u001B[0m, in \u001B[0;36mJSONDecoder.decode\u001B[0;34m(self, s, _w)\u001B[0m\n\u001B[1;32m    332\u001B[0m \u001B[38;5;28;01mdef\u001B[39;00m \u001B[38;5;21mdecode\u001B[39m(\u001B[38;5;28mself\u001B[39m, s, _w\u001B[38;5;241m=\u001B[39mWHITESPACE\u001B[38;5;241m.\u001B[39mmatch):\n\u001B[1;32m    333\u001B[0m     \u001B[38;5;124;03m\"\"\"Return the Python representation of ``s`` (a ``str`` instance\u001B[39;00m\n\u001B[1;32m    334\u001B[0m \u001B[38;5;124;03m    containing a JSON document).\u001B[39;00m\n\u001B[1;32m    335\u001B[0m \n\u001B[1;32m    336\u001B[0m \u001B[38;5;124;03m    \"\"\"\u001B[39;00m\n\u001B[0;32m--> 337\u001B[0m     obj, end \u001B[38;5;241m=\u001B[39m \u001B[38;5;28;43mself\u001B[39;49m\u001B[38;5;241;43m.\u001B[39;49m\u001B[43mraw_decode\u001B[49m\u001B[43m(\u001B[49m\u001B[43ms\u001B[49m\u001B[43m,\u001B[49m\u001B[43m \u001B[49m\u001B[43midx\u001B[49m\u001B[38;5;241;43m=\u001B[39;49m\u001B[43m_w\u001B[49m\u001B[43m(\u001B[49m\u001B[43ms\u001B[49m\u001B[43m,\u001B[49m\u001B[43m \u001B[49m\u001B[38;5;241;43m0\u001B[39;49m\u001B[43m)\u001B[49m\u001B[38;5;241;43m.\u001B[39;49m\u001B[43mend\u001B[49m\u001B[43m(\u001B[49m\u001B[43m)\u001B[49m\u001B[43m)\u001B[49m\n\u001B[1;32m    338\u001B[0m     end \u001B[38;5;241m=\u001B[39m _w(s, end)\u001B[38;5;241m.\u001B[39mend()\n\u001B[1;32m    339\u001B[0m     \u001B[38;5;28;01mif\u001B[39;00m end \u001B[38;5;241m!=\u001B[39m \u001B[38;5;28mlen\u001B[39m(s):\n",
      "File \u001B[0;32m~/opt/anaconda3/envs/kgvec2go_env/lib/python3.8/json/decoder.py:355\u001B[0m, in \u001B[0;36mJSONDecoder.raw_decode\u001B[0;34m(self, s, idx)\u001B[0m\n\u001B[1;32m    353\u001B[0m     obj, end \u001B[38;5;241m=\u001B[39m \u001B[38;5;28mself\u001B[39m\u001B[38;5;241m.\u001B[39mscan_once(s, idx)\n\u001B[1;32m    354\u001B[0m \u001B[38;5;28;01mexcept\u001B[39;00m \u001B[38;5;167;01mStopIteration\u001B[39;00m \u001B[38;5;28;01mas\u001B[39;00m err:\n\u001B[0;32m--> 355\u001B[0m     \u001B[38;5;28;01mraise\u001B[39;00m JSONDecodeError(\u001B[38;5;124m\"\u001B[39m\u001B[38;5;124mExpecting value\u001B[39m\u001B[38;5;124m\"\u001B[39m, s, err\u001B[38;5;241m.\u001B[39mvalue) \u001B[38;5;28;01mfrom\u001B[39;00m \u001B[38;5;28mNone\u001B[39m\n\u001B[1;32m    356\u001B[0m \u001B[38;5;28;01mreturn\u001B[39;00m obj, end\n",
      "\u001B[0;31mJSONDecodeError\u001B[0m: Expecting value: line 1 column 1 (char 0)"
     ]
    }
   ],
   "source": [
    "import requests\n",
    "import json\n",
    "\n",
    "r = requests.get(\"http://kgvec2go.org/rest/v2/get-triple-score/DBpedia/2021-09/transe/v1/10/France/capital/Paris\")\n",
    "score = json.loads(r.text)\n",
    "\n",
    "print(f\"(France, capital, Paris) -> {score}\")"
   ],
   "metadata": {
    "collapsed": false,
    "pycharm": {
     "name": "#%%\n"
    }
   }
  },
  {
   "cell_type": "code",
   "execution_count": null,
   "outputs": [],
   "source": [],
   "metadata": {
    "collapsed": false,
    "pycharm": {
     "name": "#%%\n"
    }
   }
  }
 ],
 "metadata": {
  "kernelspec": {
   "display_name": "Python 3 (ipykernel)",
   "language": "python",
   "name": "python3"
  },
  "language_info": {
   "codemirror_mode": {
    "name": "ipython",
    "version": 3
   },
   "file_extension": ".py",
   "mimetype": "text/x-python",
   "name": "python",
   "nbconvert_exporter": "python",
   "pygments_lexer": "ipython3",
   "version": "3.7.4"
  }
 },
 "nbformat": 4,
 "nbformat_minor": 5
}